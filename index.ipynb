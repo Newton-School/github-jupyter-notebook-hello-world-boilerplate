{
 "cells": [
  {
   "cell_type": "markdown",
   "id": "3402fa3d",
   "metadata": {},
   "source": [
    "# Return Hello Wolrd"
   ]
  },
  {
   "cell_type": "code",
   "execution_count": null,
   "id": "e1e96d7d",
   "metadata": {},
   "outputs": [],
   "source": [
    "def print_hello_world():\n",
    "    return \"\""
   ]
  },
  {
   "cell_type": "code",
   "execution_count": null,
   "id": "uniform-president",
   "metadata": {
    "editable": false,
    "slideshow": {
     "slide_type": ""
    },
    "tags": [],
    "unique_test_identifier": "testcase1"
   },
   "outputs": [],
   "source": [
    "print_hello_world()"
   ]
  }
 ],
 "metadata": {
  "kernelspec": {
   "display_name": "Python 3",
   "language": "python",
   "name": "python3"
  },
  "language_info": {
   "codemirror_mode": {
    "name": "ipython",
    "version": 3
   },
   "file_extension": ".py",
   "mimetype": "text/x-python",
   "name": "python",
   "nbconvert_exporter": "python",
   "pygments_lexer": "ipython3",
   "version": "3.8.8"
  }
 },
 "nbformat": 4,
 "nbformat_minor": 5
}
